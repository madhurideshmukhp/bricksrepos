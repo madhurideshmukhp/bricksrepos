{
 "cells": [
  {
   "cell_type": "code",
   "execution_count": 0,
   "metadata": {
    "application/vnd.databricks.v1+cell": {
     "cellMetadata": {
      "byteLimit": 2048000,
      "rowLimit": 10000
     },
     "inputWidgets": {},
     "nuid": "df3e177f-2f57-4e1f-b329-bef306412d9a",
     "showTitle": false,
     "tableResultSettingsMap": {},
     "title": ""
    }
   },
   "outputs": [],
   "source": [
    "from pyspark.sql.functions import *\n",
    "from pyspark.sql.types import *"
   ]
  },
  {
   "cell_type": "code",
   "execution_count": 0,
   "metadata": {
    "application/vnd.databricks.v1+cell": {
     "cellMetadata": {
      "byteLimit": 2048000,
      "rowLimit": 10000
     },
     "inputWidgets": {},
     "nuid": "48a41702-d42f-4589-9356-01eded21fde6",
     "showTitle": false,
     "tableResultSettingsMap": {},
     "title": ""
    }
   },
   "outputs": [],
   "source": [
    "schema=StructType([\n",
    "    StructField(\"P_ID\", StringType()),\n",
    "    StructField(\"Dev_ID\", StringType()),\n",
    "    StructField(\"TimeStamp\", StringType()),\n",
    "    StructField(\"Stages_crossed\", IntegerType()),\n",
    "    StructField(\"level\", StringType()),\n",
    "    StructField(\"Difficulty\", StringType()),\n",
    "    StructField(\"Kill_Count\", IntegerType()),\n",
    "    StructField(\"Headshots_Count\", IntegerType()),\n",
    "     StructField(\"score\", IntegerType()),\n",
    "     StructField(\"Lives_Earned\", IntegerType())])\n"
   ]
  }
 ],
 "metadata": {
  "application/vnd.databricks.v1+notebook": {
   "computePreferences": null,
   "dashboards": [],
   "environmentMetadata": {
    "base_environment": "",
    "environment_version": "2"
   },
   "language": "python",
   "notebookMetadata": {
    "pythonIndentUnit": 4
   },
   "notebookName": "schemalevel",
   "widgets": {}
  },
  "language_info": {
   "name": "python"
  }
 },
 "nbformat": 4,
 "nbformat_minor": 0
}
