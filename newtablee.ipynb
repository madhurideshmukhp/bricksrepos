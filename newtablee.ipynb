{
 "cells": [
  {
   "cell_type": "code",
   "execution_count": 0,
   "metadata": {
    "application/vnd.databricks.v1+cell": {
     "cellMetadata": {
      "byteLimit": 2048000,
      "rowLimit": 10000
     },
     "inputWidgets": {},
     "nuid": "a3f079a4-e50b-40b9-9427-ebfc5cf319a2",
     "showTitle": false,
     "tableResultSettingsMap": {},
     "title": ""
    }
   },
   "outputs": [],
   "source": [
    "from pyspark.sql.functions import *\n",
    "from pyspark.sql.types import *\n",
    "import os"
   ]
  },
  {
   "cell_type": "code",
   "execution_count": 0,
   "metadata": {
    "application/vnd.databricks.v1+cell": {
     "cellMetadata": {
      "byteLimit": 2048000,
      "rowLimit": 10000
     },
     "inputWidgets": {},
     "nuid": "2f8f70f1-e793-4234-9f63-79e5b77b296d",
     "showTitle": false,
     "tableResultSettingsMap": {},
     "title": ""
    }
   },
   "outputs": [],
   "source": [
    "dbutils.widgets.text(\"container\", \"\")\n",
    "container=dbutils.widgets.get(\"container\")\n",
    "dbutils.widgets.text(\"blob\", \"\")\n",
    "blob=dbutils.widgets.get(\"blob\")\n",
    "dbutils.widgets.text(\"delta_path\", \"\")\n",
    "container=dbutils.widgets.get(\"delta_path\")"
   ]
  },
  {
   "cell_type": "code",
   "execution_count": 0,
   "metadata": {
    "application/vnd.databricks.v1+cell": {
     "cellMetadata": {
      "byteLimit": 2048000,
      "rowLimit": 10000
     },
     "inputWidgets": {},
     "nuid": "9df9c201-3a97-4d9a-b722-5c42db88949f",
     "showTitle": false,
     "tableResultSettingsMap": {},
     "title": ""
    }
   },
   "outputs": [],
   "source": [
    "%python\n",
    "gen2name = dbutils.secrets.get(scope=\"scope\", key=\"adlsname\")\n",
    "genkey = dbutils.secrets.get(scope=\"scope\", key=\"adlskey\")\n",
    "bame = dbutils.secrets.get(scope=\"scope\", key=\"blobname\")\n",
    "blokey = dbutils.secrets.get(scope=\"scope\", key=\"blobkey\")"
   ]
  },
  {
   "cell_type": "code",
   "execution_count": 0,
   "metadata": {
    "application/vnd.databricks.v1+cell": {
     "cellMetadata": {
      "byteLimit": 2048000,
      "rowLimit": 10000
     },
     "inputWidgets": {},
     "nuid": "0fed0e15-6f1d-4b70-a9de-e749dbd09dd8",
     "showTitle": false,
     "tableResultSettingsMap": {},
     "title": ""
    }
   },
   "outputs": [],
   "source": []
  },
  {
   "cell_type": "code",
   "execution_count": 0,
   "metadata": {
    "application/vnd.databricks.v1+cell": {
     "cellMetadata": {
      "byteLimit": 2048000,
      "rowLimit": 10000
     },
     "inputWidgets": {},
     "nuid": "5c821e23-91f5-4a60-afdf-202eec8dad15",
     "showTitle": false,
     "tableResultSettingsMap": {},
     "title": ""
    }
   },
   "outputs": [],
   "source": [
    "spark_config=f\"fs.azure.account.key.{gen2name}.dfs.core.windows.net\""
   ]
  },
  {
   "cell_type": "code",
   "execution_count": 0,
   "metadata": {
    "application/vnd.databricks.v1+cell": {
     "cellMetadata": {
      "byteLimit": 2048000,
      "rowLimit": 10000
     },
     "inputWidgets": {},
     "nuid": "37351305-2587-407a-ab9f-365a38076f2c",
     "showTitle": false,
     "tableResultSettingsMap": {},
     "title": ""
    }
   },
   "outputs": [],
   "source": [
    "\n",
    "display(dbutils.fs.ls('/'))\n"
   ]
  },
  {
   "cell_type": "code",
   "execution_count": 0,
   "metadata": {
    "application/vnd.databricks.v1+cell": {
     "cellMetadata": {
      "byteLimit": 2048000,
      "rowLimit": 10000
     },
     "inputWidgets": {},
     "nuid": "7e6d6c43-4f32-44f4-87f0-665d333b8689",
     "showTitle": false,
     "tableResultSettingsMap": {},
     "title": ""
    }
   },
   "outputs": [],
   "source": [
    "# Remove or comment out any lines like the following if they exist:\n",
    "# spark.conf.set(\"spark.hadoop.fs.azure.account.key.newsadls129.dfs.core.windows.net\", \"genkey\")\n"
   ]
  },
  {
   "cell_type": "code",
   "execution_count": 0,
   "metadata": {
    "application/vnd.databricks.v1+cell": {
     "cellMetadata": {
      "byteLimit": 2048000,
      "rowLimit": 10000
     },
     "inputWidgets": {},
     "nuid": "57365eca-7fa4-439d-95a8-4fbee8f09199",
     "showTitle": false,
     "tableResultSettingsMap": {},
     "title": ""
    }
   },
   "outputs": [],
   "source": [
    "%python\n",
    "spark.conf.set(\"fs.azure.account.auth.type.newsadls129.dfs.core.windows.net\", \"OAuth\")\n",
    "spark.conf.set(\"fs.azure.account.oauth.provider.type.newsadls129.dfs.core.windows.net\", \"org.apache.hadoop.fs.azurebfs.oauth2.ClientCredsTokenProvider\")\n",
    "spark.conf.set(\"fs.azure.account.oauth2.client.id.newsadls129.dfs.core.windows.net\", \"80e80bec-2a7e-443b-ba50-d342e90e77e0\")\n",
    "spark.conf.set(\"fs.azure.account.oauth2.client.secret.newsadls129.dfs.core.windows.net\", \"7850974d-53d0-4462-a984-602ae1890c06\")\n",
    "spark.conf.set(\"fs.azure.account.oauth2.client.endpoint.newsadls129.dfs.core.windows.net\", \"https://login.microsoftonline.com/441dc366-2988-4558-8827-718893181569/oauth2/token\")"
   ]
  },
  {
   "cell_type": "code",
   "execution_count": 0,
   "metadata": {
    "application/vnd.databricks.v1+cell": {
     "cellMetadata": {
      "byteLimit": 2048000,
      "rowLimit": 10000
     },
     "inputWidgets": {},
     "nuid": "083a00cd-6484-43f9-9276-6aa92f1c2453",
     "showTitle": false,
     "tableResultSettingsMap": {},
     "title": ""
    }
   },
   "outputs": [],
   "source": [
    "spark.conf.set(\"spark.hadoop.fs.azure.account.auth.type.newsadls129.dfs.core.windows.net\", \"OAuth\")\n",
    "spark.conf.set(\"spark.hadoop.fs.azure.account.oauth.provider.type.newsadls129.dfs.core.windows.net\", \"AzureAD\")\n",
    "spark.conf.set(\"spark.hadoop.fs.azure.account.oauth2.client.id.newsadls129.dfs.core.windows.net\", \"80e80bec-2a7e-443b-ba50-d342e90e77e0\")\n",
    "spark.conf.set(\"spark.hadoop.fs.azure.account.oauth2.client.secret.newsadls129.dfs.core.windows.net\", \"7850974d-53d0-4462-a984-602ae1890c06\")\n",
    "spark.conf.set(\"spark.hadoop.fs.azure.account.oauth2.client.endpoint.newsadls129.dfs.core.windows.net\", \"https://login.microsoftonline.com/441dc366-2988-4558-8827-718893181569/oauth2/v2.0/token\")\n"
   ]
  },
  {
   "cell_type": "code",
   "execution_count": 0,
   "metadata": {
    "application/vnd.databricks.v1+cell": {
     "cellMetadata": {
      "byteLimit": 2048000,
      "rowLimit": 10000
     },
     "inputWidgets": {},
     "nuid": "9eed9806-ea76-4931-93c7-f424c39352a1",
     "showTitle": false,
     "tableResultSettingsMap": {},
     "title": ""
    }
   },
   "outputs": [],
   "source": [
    "%python\n",
    "spark.conf.set(\n",
    "    \"fs.azure.account.key.newsadls129.dfs.core.windows.net\",\n",
    "    dbutils.secrets.get(\n",
    "        scope=\"scope\",\n",
    "        key=\"adlskey\"\n",
    "    )\n",
    ")"
   ]
  },
  {
   "cell_type": "code",
   "execution_count": 0,
   "metadata": {
    "application/vnd.databricks.v1+cell": {
     "cellMetadata": {
      "byteLimit": 2048000,
      "implicitDf": true,
      "rowLimit": 10000
     },
     "inputWidgets": {},
     "nuid": "54707266-0c4c-4ca8-91f5-9233e4575c96",
     "showTitle": false,
     "tableResultSettingsMap": {},
     "title": ""
    }
   },
   "outputs": [],
   "source": [
    "\n",
    "spark.conf.set(\n",
    "    spark_config, \n",
    "    genkey)"
   ]
  },
  {
   "cell_type": "code",
   "execution_count": 0,
   "metadata": {
    "application/vnd.databricks.v1+cell": {
     "cellMetadata": {
      "byteLimit": 2048000,
      "rowLimit": 10000
     },
     "inputWidgets": {},
     "nuid": "673ab6ba-0d85-4ff5-906b-a584454e10cf",
     "showTitle": false,
     "tableResultSettingsMap": {},
     "title": ""
    }
   },
   "outputs": [],
   "source": [
    "%python\n",
    "delta_path = \"\"\n",
    "inputpath = f\"abfss://input@{bame}.dfs.core.windows.net/input\"\n",
    "outputpath = f\"abfss://sales@{gen2name}.dfs.core.windows.net/output\""
   ]
  },
  {
   "cell_type": "code",
   "execution_count": 0,
   "metadata": {
    "application/vnd.databricks.v1+cell": {
     "cellMetadata": {
      "byteLimit": 2048000,
      "rowLimit": 10000
     },
     "inputWidgets": {},
     "nuid": "d3393519-9724-4e67-8238-883ec2230c50",
     "showTitle": false,
     "tableResultSettingsMap": {},
     "title": ""
    }
   },
   "outputs": [],
   "source": []
  },
  {
   "cell_type": "code",
   "execution_count": 0,
   "metadata": {
    "application/vnd.databricks.v1+cell": {
     "cellMetadata": {
      "byteLimit": 2048000,
      "rowLimit": 10000
     },
     "inputWidgets": {},
     "nuid": "cb03dfc6-abd9-45dd-b478-973cc82a7bd8",
     "showTitle": false,
     "tableResultSettingsMap": {},
     "title": ""
    }
   },
   "outputs": [],
   "source": [
    "%python\n",
    "# Use the abfss driver to access Azure storage securely\n",
    "df_source = spark.read.format(\"csv\") \\\n",
    "    .option(\"header\", \"true\") \\\n",
    "    .load(\"abfss://sales@newsadls129.dfs.core.windows.net/output\")"
   ]
  },
  {
   "cell_type": "code",
   "execution_count": 0,
   "metadata": {
    "application/vnd.databricks.v1+cell": {
     "cellMetadata": {
      "byteLimit": 2048000,
      "rowLimit": 10000
     },
     "inputWidgets": {},
     "nuid": "9313ec4b-f4df-4d9f-89be-ef8a177f5e76",
     "showTitle": false,
     "tableResultSettingsMap": {},
     "title": ""
    }
   },
   "outputs": [],
   "source": [
    "df_source=df_source.show()"
   ]
  },
  {
   "cell_type": "code",
   "execution_count": 0,
   "metadata": {
    "application/vnd.databricks.v1+cell": {
     "cellMetadata": {
      "byteLimit": 2048000,
      "rowLimit": 10000
     },
     "inputWidgets": {},
     "nuid": "a34616f6-70fe-4d6b-b626-861efb053e24",
     "showTitle": false,
     "tableResultSettingsMap": {},
     "title": ""
    }
   },
   "outputs": [],
   "source": [
    "%run \"/Workspace/Repos/91madhu12@gmail.com/bricksrepos/levelschema\"\n"
   ]
  },
  {
   "cell_type": "code",
   "execution_count": 0,
   "metadata": {
    "application/vnd.databricks.v1+cell": {
     "cellMetadata": {
      "byteLimit": 2048000,
      "rowLimit": 10000
     },
     "inputWidgets": {},
     "nuid": "65bd257c-abdf-4150-9cd0-309c106fa3a0",
     "showTitle": false,
     "tableResultSettingsMap": {},
     "title": ""
    }
   },
   "outputs": [],
   "source": [
    "%python\n",
    "file_name = 'level_details2'\n",
    "if file_name == 'level_details2':\n",
    "    print(\"inside if\")\n",
    "    table_name = 'level_details2'\n",
    "    schema_name = table_name + \"_schema\"\n"
   ]
  },
  {
   "cell_type": "code",
   "execution_count": 0,
   "metadata": {
    "application/vnd.databricks.v1+cell": {
     "cellMetadata": {
      "byteLimit": 2048000,
      "rowLimit": 10000
     },
     "inputWidgets": {},
     "nuid": "679458f9-5d8d-4cf8-b13c-387c29763838",
     "showTitle": false,
     "tableResultSettingsMap": {},
     "title": ""
    }
   },
   "outputs": [],
   "source": [
    "print(type(df_source))\n"
   ]
  },
  {
   "cell_type": "code",
   "execution_count": 0,
   "metadata": {
    "application/vnd.databricks.v1+cell": {
     "cellMetadata": {
      "byteLimit": 2048000,
      "rowLimit": 10000
     },
     "inputWidgets": {},
     "nuid": "d91f9d5b-49da-4ba2-8350-5184054cfcb0",
     "showTitle": false,
     "tableResultSettingsMap": {},
     "title": ""
    }
   },
   "outputs": [],
   "source": []
  },
  {
   "cell_type": "code",
   "execution_count": 0,
   "metadata": {
    "application/vnd.databricks.v1+cell": {
     "cellMetadata": {
      "byteLimit": 2048000,
      "rowLimit": 10000
     },
     "inputWidgets": {},
     "nuid": "9f2d2cf3-d12e-4e6d-92ba-f3f19a091db4",
     "showTitle": false,
     "tableResultSettingsMap": {},
     "title": ""
    }
   },
   "outputs": [],
   "source": [
    "%python\n",
    "# Load the DataFrame from the table or source\n",
    "df_source = spark.table(\"datalevel_db.level\")\n",
    "\n",
    "# Write the DataFrame to the Delta table\n",
    "df_source.write.format(\"delta\").mode(\"append\").saveAsTable(\"datalevel_db.level\")"
   ]
  },
  {
   "cell_type": "code",
   "execution_count": 0,
   "metadata": {
    "application/vnd.databricks.v1+cell": {
     "cellMetadata": {
      "byteLimit": 2048000,
      "rowLimit": 10000
     },
     "inputWidgets": {},
     "nuid": "8b77e479-0e4b-4363-90cd-780dc3a3efe9",
     "showTitle": false,
     "tableResultSettingsMap": {},
     "title": ""
    }
   },
   "outputs": [],
   "source": [
    "insert_count = 0  # Correct variable name\n",
    "myerror = 'concurrent'\n",
    "\n",
    "def run_until(query_insert):\n",
    "    global insert_count, myerror\n",
    "    flag = True\n",
    "    while flag and myerror == 'concurrent':  # Corrected condition\n",
    "        try:\n",
    "            insert_count += 1  # Corrected variable name\n",
    "            print(\"Try count:\", insert_count)\n",
    "            # Add your `query_insert` execution here\n",
    "            flag = False  # Exit loop if successful\n",
    "        except Exception as e:  # Corrected syntax\n",
    "            if \"concurrent\" in str(e).lower():\n",
    "                print(\"Inside if: Concurrent issue detected\")\n",
    "                myerror = \"concurrent\"\n",
    "            else:\n",
    "                print(\"Inside else: Other error occurred\")\n",
    "                myerror = str(e)  # Store the actual error\n",
    "                flag = False  # Exit loop on non-concurrent errors\n"
   ]
  },
  {
   "cell_type": "code",
   "execution_count": 0,
   "metadata": {
    "application/vnd.databricks.v1+cell": {
     "cellMetadata": {
      "byteLimit": 2048000,
      "implicitDf": true,
      "rowLimit": 10000
     },
     "inputWidgets": {},
     "nuid": "d276dba1-e726-4782-8b27-73233cd2a680",
     "showTitle": false,
     "tableResultSettingsMap": {},
     "title": ""
    }
   },
   "outputs": [],
   "source": [
    "%sql\n",
    "select * from datalevel_db.level"
   ]
  }
 ],
 "metadata": {
  "application/vnd.databricks.v1+notebook": {
   "computePreferences": null,
   "dashboards": [],
   "environmentMetadata": {
    "base_environment": "",
    "environment_version": "2"
   },
   "language": "python",
   "notebookMetadata": {
    "mostRecentlyExecutedCommandWithImplicitDF": {
     "commandId": 8969916657103922,
     "dataframes": [
      "_sqldf"
     ]
    },
    "pythonIndentUnit": 4
   },
   "notebookName": "newtablee",
   "widgets": {
    "blob": {
     "currentValue": "",
     "nuid": "995aa5eb-6921-47d8-9112-445b8d2d65fa",
     "typedWidgetInfo": {
      "autoCreated": false,
      "defaultValue": "",
      "label": null,
      "name": "blob",
      "options": {
       "widgetDisplayType": "Text",
       "validationRegex": null
      },
      "parameterDataType": "String"
     },
     "widgetInfo": {
      "widgetType": "text",
      "defaultValue": "",
      "label": null,
      "name": "blob",
      "options": {
       "widgetType": "text",
       "autoCreated": null,
       "validationRegex": null
      }
     }
    },
    "container": {
     "currentValue": "",
     "nuid": "ad082a4a-2e2c-427b-aed7-9456600c8eaa",
     "typedWidgetInfo": {
      "autoCreated": false,
      "defaultValue": "",
      "label": null,
      "name": "container",
      "options": {
       "widgetDisplayType": "Text",
       "validationRegex": null
      },
      "parameterDataType": "String"
     },
     "widgetInfo": {
      "widgetType": "text",
      "defaultValue": "",
      "label": null,
      "name": "container",
      "options": {
       "widgetType": "text",
       "autoCreated": null,
       "validationRegex": null
      }
     }
    },
    "delta_path": {
     "currentValue": "",
     "nuid": "19821302-8f42-483a-b3a0-965239129f57",
     "typedWidgetInfo": {
      "autoCreated": false,
      "defaultValue": "",
      "label": null,
      "name": "delta_path",
      "options": {
       "widgetDisplayType": "Text",
       "validationRegex": null
      },
      "parameterDataType": "String"
     },
     "widgetInfo": {
      "widgetType": "text",
      "defaultValue": "",
      "label": null,
      "name": "delta_path",
      "options": {
       "widgetType": "text",
       "autoCreated": null,
       "validationRegex": null
      }
     }
    }
   }
  },
  "language_info": {
   "name": "python"
  }
 },
 "nbformat": 4,
 "nbformat_minor": 0
}
