{
 "cells": [
  {
   "cell_type": "code",
   "execution_count": 0,
   "metadata": {
    "application/vnd.databricks.v1+cell": {
     "cellMetadata": {
      "byteLimit": 2048000,
      "rowLimit": 10000
     },
     "inputWidgets": {},
     "nuid": "c6eef415-f177-4c74-b7f5-9cb1035d6307",
     "showTitle": false,
     "tableResultSettingsMap": {},
     "title": ""
    }
   },
   "outputs": [],
   "source": [
    "from pyspark.sql.functions import *\n",
    "from pyspark.sql.types import *"
   ]
  },
  {
   "cell_type": "code",
   "execution_count": 0,
   "metadata": {
    "application/vnd.databricks.v1+cell": {
     "cellMetadata": {
      "byteLimit": 2048000,
      "rowLimit": 10000
     },
     "inputWidgets": {},
     "nuid": "c38de00f-64d8-47bf-adbb-d25ae102c797",
     "showTitle": false,
     "tableResultSettingsMap": {},
     "title": ""
    }
   },
   "outputs": [],
   "source": [
    "schema=StructType([\n",
    "    StructField(\"P_ID\", StringType()),\n",
    "    StructField(\"Dev_ID\", StringType()),\n",
    "    StructField(\"TimeStamp\", StringType()),\n",
    "    StructField(\"Stages_crossed\", IntegerType()),\n",
    "    StructField(\"level\", StringType()),\n",
    "    StructField(\"Difficulty\", StringType()),\n",
    "    StructField(\"Kill_Count\", IntegerType()),\n",
    "    StructField(\"Headshots_Count\", IntegerType()),\n",
    "     StructField(\"score\", IntegerType()),\n",
    "     StructField(\"Lives_Earned\", IntegerType())\n",
    "    \n",
    "\n",
    "    \n",
    "\n",
    "\n",
    "])"
   ]
  }
 ],
 "metadata": {
  "application/vnd.databricks.v1+notebook": {
   "computePreferences": null,
   "dashboards": [],
   "environmentMetadata": {
    "base_environment": "",
    "environment_version": "2"
   },
   "language": "python",
   "notebookMetadata": {
    "pythonIndentUnit": 4
   },
   "notebookName": "levelschema",
   "widgets": {}
  },
  "language_info": {
   "name": "python"
  }
 },
 "nbformat": 4,
 "nbformat_minor": 0
}
